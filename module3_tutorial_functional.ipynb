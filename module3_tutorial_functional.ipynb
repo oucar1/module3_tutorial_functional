{
 "cells": [
  {
   "cell_type": "markdown",
   "metadata": {},
   "source": [
    "Module 3 Tutorial - Functional Programming"
   ]
  },
  {
   "cell_type": "code",
   "execution_count": 3,
   "metadata": {},
   "outputs": [],
   "source": [
    "class Solution:\n",
    "    def binarysearch(self, arr, k):\n",
    "        left, right = 0, len(arr) - 1\n",
    "        while left <= right:\n",
    "            mid = (left + right) // 2\n",
    "            if arr[mid] == k:\n",
    "                return mid\n",
    "            elif arr[mid] < k:\n",
    "                left = mid + 1\n",
    "            else:\n",
    "                right = mid - 1\n",
    "        return -1\n"
   ]
  },
  {
   "cell_type": "markdown",
   "metadata": {},
   "source": [
    "Test the code"
   ]
  },
  {
   "cell_type": "code",
   "execution_count": 4,
   "metadata": {},
   "outputs": [
    {
     "name": "stdout",
     "output_type": "stream",
     "text": [
      "Test Case:\n",
      "Array: [1, 2, 3, 4, 5]\n",
      "Key: 4\n",
      "Expected Output: 3\n",
      "Output: 3\n",
      "Pass\n"
     ]
    }
   ],
   "source": [
    "# Creating an instance of Solution\n",
    "solution = Solution()\n",
    "\n",
    "# Specific test case\n",
    "arr = [1, 2, 3, 4, 5]\n",
    "k = 4\n",
    "expected_output = 3\n",
    "\n",
    "# Running the test\n",
    "output = solution.binarysearch(arr, k)\n",
    "print(\"Test Case:\")\n",
    "print(f\"Array: {arr}\")\n",
    "print(f\"Key: {k}\")\n",
    "print(f\"Expected Output: {expected_output}\")\n",
    "print(f\"Output: {output}\")\n",
    "print(\"Pass\" if output == expected_output else \"Fail\")"
   ]
  }
 ],
 "metadata": {
  "kernelspec": {
   "display_name": "Python 3",
   "language": "python",
   "name": "python3"
  },
  "language_info": {
   "codemirror_mode": {
    "name": "ipython",
    "version": 3
   },
   "file_extension": ".py",
   "mimetype": "text/x-python",
   "name": "python",
   "nbconvert_exporter": "python",
   "pygments_lexer": "ipython3",
   "version": "3.12.2"
  }
 },
 "nbformat": 4,
 "nbformat_minor": 2
}
